{
 "cells": [
  {
   "cell_type": "code",
   "execution_count": null,
   "metadata": {},
   "outputs": [],
   "source": []
  },
  {
   "cell_type": "code",
   "execution_count": 17,
   "metadata": {},
   "outputs": [],
   "source": [
    "from Crypto.Cipher import PKCS1_OAEP\n",
    "from Crypto.PublicKey import RSA\n",
    "\n",
    "def generate_rsa_key():\n",
    "    key = RSA.generate(2048)\n",
    "\n",
    "    #pubKey = key.publickey()\n",
    "\n",
    "    #print(f\"Public key:  (n={hex(pubKey.n)}, e={hex(pubKey.e)})\")\n",
    "    #pubKeyPEM = pubKey.exportKey()\n",
    "    #print(pubKeyPEM.decode('ascii'))\n",
    "\n",
    "    #print(f\"Private key: (n={hex(pubKey.n)}, d={hex(keyPair.d)})\")\n",
    "    #privKeyPEM = key.exportKey()\n",
    "    #print(privKeyPEM.decode('ascii'))\n",
    "\n",
    "    return(key)\n",
    "\n",
    "def encode(message,key):\n",
    "\n",
    "    message_bytes = bytes(message,'utf-8')\n",
    "    cipher = PKCS1_OAEP.new(key)\n",
    "    ciphertext = cipher.encrypt(message_bytes)\n",
    "\n",
    "    return ciphertext\n",
    "\n",
    "def decode(ciphertext,key):\n",
    "    cipher = PKCS1_OAEP.new(key)\n",
    "    message_decrypted = cipher.decrypt(ciphertext)\n",
    "    \n",
    "    return message_decrypted\n"
   ]
  }
 ],
 "metadata": {
  "kernelspec": {
   "display_name": "Python 3",
   "language": "python",
   "name": "python3"
  },
  "language_info": {
   "codemirror_mode": {
    "name": "ipython",
    "version": 3
   },
   "file_extension": ".py",
   "mimetype": "text/x-python",
   "name": "python",
   "nbconvert_exporter": "python",
   "pygments_lexer": "ipython3",
   "version": "3.8.3"
  }
 },
 "nbformat": 4,
 "nbformat_minor": 4
}
